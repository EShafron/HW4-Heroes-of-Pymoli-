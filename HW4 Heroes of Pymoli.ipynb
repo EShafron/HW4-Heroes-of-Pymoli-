{
 "cells": [
  {
   "cell_type": "markdown",
   "metadata": {},
   "source": [
    "# Heroes Of Pymoli Data Analysis\n",
    "* Despite females being in the minority of players, female players average total purchases are nearly 10% higher than males\n",
    "\n",
    "* The most items a single player has purchased to date is 5\n",
    "\n",
    "* By average total purchases per player, the three highest spending age demographics are 35-39, <10, and 20-24\n",
    "-----"
   ]
  },
  {
   "cell_type": "code",
   "execution_count": 1,
   "metadata": {},
   "outputs": [],
   "source": [
    "# Dependencies and Setup\n",
    "import pandas as pd\n",
    "import numpy as np\n",
    "\n",
    "# File to Load (Remember to Change These)\n",
    "file_to_load = \"Resources/purchase_data.csv\"\n",
    "\n",
    "# Read Purchasing File and store into Pandas data frame\n",
    "purchase_data = pd.read_csv(file_to_load)"
   ]
  },
  {
   "cell_type": "markdown",
   "metadata": {},
   "source": [
    "## Player Count"
   ]
  },
  {
   "cell_type": "markdown",
   "metadata": {},
   "source": [
    "* Display the total number of players\n"
   ]
  },
  {
   "cell_type": "code",
   "execution_count": 2,
   "metadata": {},
   "outputs": [
    {
     "name": "stdout",
     "output_type": "stream",
     "text": [
      "576\n"
     ]
    }
   ],
   "source": [
    "total_players=len(purchase_data['SN'].unique())\n",
    "print(total_players)\n",
    "# purchase_data.head()"
   ]
  },
  {
   "cell_type": "markdown",
   "metadata": {},
   "source": [
    "## Purchasing Analysis (Total)"
   ]
  },
  {
   "cell_type": "markdown",
   "metadata": {},
   "source": [
    "* Run basic calculations to obtain number of unique items, average price, etc.\n",
    "\n",
    "\n",
    "* Create a summary data frame to hold the results\n",
    "\n",
    "\n",
    "* Optional: give the displayed data cleaner formatting\n",
    "\n",
    "\n",
    "* Display the summary data frame\n"
   ]
  },
  {
   "cell_type": "code",
   "execution_count": 3,
   "metadata": {
    "scrolled": true
   },
   "outputs": [
    {
     "name": "stdout",
     "output_type": "stream",
     "text": [
      "   Unique Items Average Purchase Price  Total Purchases Total Revenue\n",
      "0           179                  $3.05              780     $2,379.77\n"
     ]
    }
   ],
   "source": [
    "# Total Unique Items\n",
    "unique_items=len(purchase_data['Item Name'].unique())\n",
    "\n",
    "# Average Purchase Price\n",
    "avg_purch_price=purchase_data['Price'].mean()\n",
    "\n",
    "# Total Purchases\n",
    "total_purchases=len(purchase_data['Purchase ID'])\n",
    "\n",
    "# Total Revenue\n",
    "total_revenue=purchase_data['Price'].sum()\n",
    "\n",
    "# Create Summary Data Frame\n",
    "summary_df=pd.DataFrame({\n",
    "    'Unique Items':[unique_items],\n",
    "    'Average Purchase Price':avg_purch_price,\n",
    "    'Total Purchases':total_purchases,\n",
    "    'Total Revenue':total_revenue\n",
    "})\n",
    "\n",
    "summary_df['Average Purchase Price']=summary_df['Average Purchase Price'].map(\"${:,.2f}\".format)\n",
    "summary_df['Total Revenue']=summary_df['Total Revenue'].map(\"${:,.2f}\".format)\n",
    "\n",
    "print(summary_df)"
   ]
  },
  {
   "cell_type": "markdown",
   "metadata": {},
   "source": [
    "## Gender Demographics"
   ]
  },
  {
   "cell_type": "markdown",
   "metadata": {},
   "source": [
    "* Percentage and Count of Male Players\n",
    "\n",
    "\n",
    "* Percentage and Count of Female Players\n",
    "\n",
    "\n",
    "* Percentage and Count of Other / Non-Disclosed\n",
    "\n",
    "\n"
   ]
  },
  {
   "cell_type": "code",
   "execution_count": 4,
   "metadata": {},
   "outputs": [
    {
     "name": "stdout",
     "output_type": "stream",
     "text": [
      "                       Total Count  Percentage of Players\n",
      "Gender                                                   \n",
      "Male                           484                  84.03\n",
      "Female                          81                  14.06\n",
      "Other / Non-Disclosed           11                   1.91\n"
     ]
    }
   ],
   "source": [
    "# Group by Gender & count unique SN & put results in data frame\n",
    "gender_summary=pd.DataFrame(purchase_data.groupby(['Gender']).SN.nunique())\n",
    "gender_summary['Percentage of Players']=round(gender_summary[\"SN\"]/total_players*100,2)\n",
    "\n",
    "# Rename Columns\n",
    "gender_summary=gender_summary.rename(columns={'SN':'Total Count'})\n",
    "\n",
    "# Order by frequency\n",
    "gender_summary=gender_summary.sort_values([\"Total Count\"],ascending=False)\n",
    "\n",
    "print(gender_summary)\n"
   ]
  },
  {
   "cell_type": "markdown",
   "metadata": {},
   "source": [
    "\n",
    "## Purchasing Analysis (Gender)"
   ]
  },
  {
   "cell_type": "markdown",
   "metadata": {},
   "source": [
    "* Run basic calculations to obtain purchase count, avg. purchase price, avg. purchase total per person etc. by gender\n",
    "\n",
    "\n",
    "\n",
    "\n",
    "* Create a summary data frame to hold the results\n",
    "\n",
    "\n",
    "* Optional: give the displayed data cleaner formatting\n",
    "\n",
    "\n",
    "* Display the summary data frame"
   ]
  },
  {
   "cell_type": "code",
   "execution_count": 5,
   "metadata": {},
   "outputs": [
    {
     "name": "stdout",
     "output_type": "stream",
     "text": [
      "                  Gender  Purchase Count Average Purchase Price  \\\n",
      "0                 Female             113                  $3.20   \n",
      "1                   Male             652                  $3.02   \n",
      "2  Other / Non-Disclosed              15                  $3.35   \n",
      "\n",
      "  Total Purchase Value Avg Total Purchases per Person  \n",
      "0              $361.94                          $4.47  \n",
      "1            $1,967.64                          $4.07  \n",
      "2               $50.19                          $4.56  \n"
     ]
    }
   ],
   "source": [
    "# Create group by object by gender\n",
    "gender_group=purchase_data.groupby(['Gender'])\n",
    "\n",
    "# Purchase count\n",
    "purchase_count=pd.DataFrame(gender_group['Purchase ID'].count())\n",
    "\n",
    "# Average Purchase Price\n",
    "avg_purchase_price=pd.DataFrame(gender_group['Price'].mean())\n",
    "\n",
    "# Total Purchases\n",
    "total_purchases=pd.DataFrame(gender_group['Price'].sum())\n",
    "\n",
    "# Average Purchase Total By Person For Gender\n",
    "# Group by Gender & SN; then find sum of price; then group by gender, then find the mean\n",
    "mean_tot_purch=pd.DataFrame(purchase_data.groupby(['Gender','SN'])['Price'].sum().groupby([\"Gender\"]).mean())\n",
    "\n",
    "# Create summary data frame\n",
    "# Change indexes for each data frame\n",
    "purchase_count.reset_index(inplace=True)\n",
    "avg_purchase_price.reset_index(inplace=True)\n",
    "total_purchases.reset_index(inplace=True)\n",
    "mean_tot_purch.reset_index(inplace=True)\n",
    "\n",
    "# Merge Tables\n",
    "merge1=pd.merge(purchase_count,avg_purchase_price,on=\"Gender\")\n",
    "merge2=pd.merge(merge1,total_purchases,on=\"Gender\",suffixes=(' avg',' total'))\n",
    "merge3=pd.merge(merge2,mean_tot_purch,on=\"Gender\")\n",
    "\n",
    "# Clean Table Up\n",
    "gender_purchase_analysis=merge3.rename(columns={\n",
    "    'Purchase ID':'Purchase Count',\n",
    "    'Price avg':'Average Purchase Price',\n",
    "    'Price total':'Total Purchase Value',\n",
    "    'Price':'Avg Total Purchases per Person'\n",
    "})\n",
    "\n",
    "# Format Numbers\n",
    "gender_purchase_analysis[\"Average Purchase Price\"]=gender_purchase_analysis[\"Average Purchase Price\"].map(\"${:,.2f}\".format)\n",
    "gender_purchase_analysis[\"Total Purchase Value\"]=gender_purchase_analysis[\"Total Purchase Value\"].map(\"${:,.2f}\".format)\n",
    "gender_purchase_analysis[\"Avg Total Purchases per Person\"]=gender_purchase_analysis[\"Avg Total Purchases per Person\"].map(\"${:,.2f}\".format)\n",
    "\n",
    "print(gender_purchase_analysis)"
   ]
  },
  {
   "cell_type": "markdown",
   "metadata": {},
   "source": [
    "## Age Demographics"
   ]
  },
  {
   "cell_type": "markdown",
   "metadata": {},
   "source": [
    "* Establish bins for ages\n",
    "\n",
    "\n",
    "* Categorize the existing players using the age bins. Hint: use pd.cut()\n",
    "\n",
    "\n",
    "* Calculate the numbers and percentages by age group\n",
    "\n",
    "\n",
    "* Create a summary data frame to hold the results\n",
    "\n",
    "\n",
    "* Optional: round the percentage column to two decimal points\n",
    "\n",
    "\n",
    "* Display Age Demographics Table\n"
   ]
  },
  {
   "cell_type": "code",
   "execution_count": 6,
   "metadata": {},
   "outputs": [
    {
     "name": "stdout",
     "output_type": "stream",
     "text": [
      "         Total Players  Percent\n",
      "Age Bin                        \n",
      "<10                 17     2.95\n",
      "10-14               22     3.82\n",
      "15-19              107    18.58\n",
      "20-24              258    44.79\n",
      "25-29               77    13.37\n",
      "30-34               52     9.03\n",
      "35-39               31     5.38\n",
      "40+                 12     2.08\n"
     ]
    }
   ],
   "source": [
    "# Establish bins for ages & labels\n",
    "\n",
    "# Check min & max\n",
    "purchase_data.describe()\n",
    "age_bins=[0,9,14,19,24,29,34,39,100]\n",
    "age_labels=['<10','10-14','15-19','20-24','25-29','30-34','35-39','40+']\n",
    "\n",
    "# Use cut to categorize players\n",
    "purchase_data[\"Age Bin\"]=pd.cut(purchase_data[\"Age\"],age_bins,labels=age_labels)\n",
    "\n",
    "# Counts by age group\n",
    "age_summary=pd.DataFrame(purchase_data.groupby(['Age Bin']).SN.nunique())\n",
    "\n",
    "# Percentages by age group; round & create whole numbers\n",
    "age_summary['Percent']=round(age_summary['SN']/total_players,4)*100\n",
    "\n",
    "# Rename columns\n",
    "age_summary=age_summary.rename(columns={'SN':'Total Players'})\n",
    "print(age_summary)\n"
   ]
  },
  {
   "cell_type": "markdown",
   "metadata": {},
   "source": [
    "## Purchasing Analysis (Age)"
   ]
  },
  {
   "cell_type": "markdown",
   "metadata": {},
   "source": [
    "* Bin the purchase_data data frame by age\n",
    "\n",
    "\n",
    "* Run basic calculations to obtain purchase count, avg. purchase price, avg. purchase total per person etc. in the table below\n",
    "\n",
    "\n",
    "* Create a summary data frame to hold the results\n",
    "\n",
    "\n",
    "* Optional: give the displayed data cleaner formatting\n",
    "\n",
    "\n",
    "* Display the summary data frame"
   ]
  },
  {
   "cell_type": "code",
   "execution_count": 7,
   "metadata": {},
   "outputs": [
    {
     "name": "stdout",
     "output_type": "stream",
     "text": [
      "  Age Bin  Purchase Count Average Purchase Price Total Purchase Value  \\\n",
      "0     <10              23                  $3.35               $77.13   \n",
      "1   10-14              28                  $2.96               $82.78   \n",
      "2   15-19             136                  $3.04              $412.89   \n",
      "3   20-24             365                  $3.05            $1,114.06   \n",
      "4   25-29             101                  $2.90              $293.00   \n",
      "5   30-34              73                  $2.93              $214.00   \n",
      "6   35-39              41                  $3.60              $147.67   \n",
      "7     40+              13                  $2.94               $38.24   \n",
      "\n",
      "  Avg Total Purchase per Person  \n",
      "0                         $4.54  \n",
      "1                         $3.76  \n",
      "2                         $3.86  \n",
      "3                         $4.32  \n",
      "4                         $3.81  \n",
      "5                         $4.12  \n",
      "6                         $4.76  \n",
      "7                         $3.19  \n"
     ]
    }
   ],
   "source": [
    "# Group by age bin\n",
    "age_bin_summary=purchase_data.groupby(['Age Bin'])\n",
    "\n",
    "# Purchase count\n",
    "age_bin_count=pd.DataFrame(age_bin_summary[\"Purchase ID\"].count())\n",
    "\n",
    "# Average Purchase Price\n",
    "age_bin_avg=pd.DataFrame(age_bin_summary['Price'].mean())\n",
    "\n",
    "# Total Purchases\n",
    "age_bin_total=pd.DataFrame(age_bin_summary['Price'].sum())\n",
    "\n",
    "# Average Purchase Total per Person For Age Bin\n",
    "mean_age_purch=pd.DataFrame(purchase_data.groupby(['Age Bin','SN'])['Price'].sum().groupby(['Age Bin']).mean())\n",
    "\n",
    "# Create summary data frame\n",
    "# Change indexes for each data frame\n",
    "age_bin_count.reset_index(inplace=True)\n",
    "age_bin_avg.reset_index(inplace=True)\n",
    "age_bin_total.reset_index(inplace=True)\n",
    "mean_age_purch.reset_index(inplace=True)\n",
    "\n",
    "# Merge Tables\n",
    "mergeA=pd.merge(age_bin_count,age_bin_avg,on=\"Age Bin\")\n",
    "mergeB=pd.merge(mergeA,age_bin_total,on=\"Age Bin\",suffixes=(' avg',' total'))\n",
    "mergeC=pd.merge(mergeB,mean_age_purch,on=\"Age Bin\")\n",
    "\n",
    "# Clean Table Up\n",
    "age_bin_analysis=mergeC.rename(columns={\n",
    "    'Purchase ID':'Purchase Count',\n",
    "    'Price avg':'Average Purchase Price',\n",
    "    'Price total':'Total Purchase Value',\n",
    "    'Price':'Avg Total Purchase per Person'\n",
    "})\n",
    "\n",
    "# Format Numbers\n",
    "age_bin_analysis['Average Purchase Price']=age_bin_analysis['Average Purchase Price'].map(\"${:,.2f}\".format)\n",
    "age_bin_analysis['Total Purchase Value']=age_bin_analysis['Total Purchase Value'].map(\"${:,.2f}\".format)\n",
    "age_bin_analysis['Avg Total Purchase per Person']=age_bin_analysis['Avg Total Purchase per Person'].map(\"${:,.2f}\".format)\n",
    "\n",
    "\n",
    "print(age_bin_analysis)"
   ]
  },
  {
   "cell_type": "markdown",
   "metadata": {},
   "source": [
    "## Top Spenders"
   ]
  },
  {
   "cell_type": "markdown",
   "metadata": {},
   "source": [
    "* Run basic calculations to obtain the results in the table below\n",
    "\n",
    "\n",
    "* Create a summary data frame to hold the results\n",
    "\n",
    "\n",
    "* Sort the total purchase value column in descending order\n",
    "\n",
    "\n",
    "* Optional: give the displayed data cleaner formatting\n",
    "\n",
    "\n",
    "* Display a preview of the summary data frame\n",
    "\n"
   ]
  },
  {
   "cell_type": "code",
   "execution_count": 8,
   "metadata": {},
   "outputs": [
    {
     "data": {
      "text/html": [
       "<div>\n",
       "<style scoped>\n",
       "    .dataframe tbody tr th:only-of-type {\n",
       "        vertical-align: middle;\n",
       "    }\n",
       "\n",
       "    .dataframe tbody tr th {\n",
       "        vertical-align: top;\n",
       "    }\n",
       "\n",
       "    .dataframe thead th {\n",
       "        text-align: right;\n",
       "    }\n",
       "</style>\n",
       "<table border=\"1\" class=\"dataframe\">\n",
       "  <thead>\n",
       "    <tr style=\"text-align: right;\">\n",
       "      <th></th>\n",
       "      <th>Purchase Count</th>\n",
       "      <th>Average Purchase Price</th>\n",
       "      <th>Total Purchase Value</th>\n",
       "    </tr>\n",
       "    <tr>\n",
       "      <th>SN</th>\n",
       "      <th></th>\n",
       "      <th></th>\n",
       "      <th></th>\n",
       "    </tr>\n",
       "  </thead>\n",
       "  <tbody>\n",
       "    <tr>\n",
       "      <th>Lisosia93</th>\n",
       "      <td>5</td>\n",
       "      <td>$3.79</td>\n",
       "      <td>$18.96</td>\n",
       "    </tr>\n",
       "    <tr>\n",
       "      <th>Idastidru52</th>\n",
       "      <td>4</td>\n",
       "      <td>$3.86</td>\n",
       "      <td>$15.45</td>\n",
       "    </tr>\n",
       "    <tr>\n",
       "      <th>Chamjask73</th>\n",
       "      <td>3</td>\n",
       "      <td>$4.61</td>\n",
       "      <td>$13.83</td>\n",
       "    </tr>\n",
       "    <tr>\n",
       "      <th>Iral74</th>\n",
       "      <td>4</td>\n",
       "      <td>$3.40</td>\n",
       "      <td>$13.62</td>\n",
       "    </tr>\n",
       "    <tr>\n",
       "      <th>Iskadarya95</th>\n",
       "      <td>3</td>\n",
       "      <td>$4.37</td>\n",
       "      <td>$13.10</td>\n",
       "    </tr>\n",
       "  </tbody>\n",
       "</table>\n",
       "</div>"
      ],
      "text/plain": [
       "             Purchase Count Average Purchase Price Total Purchase Value\n",
       "SN                                                                     \n",
       "Lisosia93                 5                  $3.79               $18.96\n",
       "Idastidru52               4                  $3.86               $15.45\n",
       "Chamjask73                3                  $4.61               $13.83\n",
       "Iral74                    4                  $3.40               $13.62\n",
       "Iskadarya95               3                  $4.37               $13.10"
      ]
     },
     "execution_count": 8,
     "metadata": {},
     "output_type": "execute_result"
    }
   ],
   "source": [
    "# Top Spenders - Purchase Count, Average Purchase Price, Total Purchase Value\n",
    "player_group=purchase_data.groupby('SN')\n",
    "\n",
    "# Purchase Count\n",
    "player_purch_count=player_group['Purchase ID'].count()\n",
    "\n",
    "# Average Purchase Price\n",
    "player_avg_purch=player_group['Price'].mean()\n",
    "\n",
    "# Total Purchase Value\n",
    "player_total_purch=player_group['Price'].sum()\n",
    "\n",
    "player_total_purch.head()\n",
    "\n",
    "# Create summary dataframe\n",
    "player_summary=pd.DataFrame({\n",
    "    'Purchase Count': player_purch_count,\n",
    "    'Average Purchase Price': player_avg_purch,\n",
    "    'Total Purchase Value':player_total_purch\n",
    "})\n",
    "\n",
    "# sort values\n",
    "player_summary=player_summary.sort_values(['Total Purchase Value'],ascending=False)\n",
    "\n",
    "# Reformat data\n",
    "player_summary[\"Average Purchase Price\"]=player_summary[\"Average Purchase Price\"].map(\"${:,.2f}\".format)\n",
    "player_summary[\"Total Purchase Value\"]=player_summary[\"Total Purchase Value\"].map(\"${:,.2f}\".format)\n",
    "\n",
    "player_summary.head()"
   ]
  },
  {
   "cell_type": "markdown",
   "metadata": {},
   "source": [
    "## Most Popular Items"
   ]
  },
  {
   "cell_type": "markdown",
   "metadata": {},
   "source": [
    "* Retrieve the Item ID, Item Name, and Item Price columns\n",
    "\n",
    "\n",
    "* Group by Item ID and Item Name. Perform calculations to obtain purchase count, item price, and total purchase value\n",
    "\n",
    "\n",
    "* Create a summary data frame to hold the results\n",
    "\n",
    "\n",
    "* Sort the purchase count column in descending order\n",
    "\n",
    "\n",
    "* Optional: give the displayed data cleaner formatting\n",
    "\n",
    "\n",
    "* Display a preview of the summary data frame\n",
    "\n"
   ]
  },
  {
   "cell_type": "code",
   "execution_count": 12,
   "metadata": {},
   "outputs": [
    {
     "data": {
      "text/html": [
       "<div>\n",
       "<style scoped>\n",
       "    .dataframe tbody tr th:only-of-type {\n",
       "        vertical-align: middle;\n",
       "    }\n",
       "\n",
       "    .dataframe tbody tr th {\n",
       "        vertical-align: top;\n",
       "    }\n",
       "\n",
       "    .dataframe thead th {\n",
       "        text-align: right;\n",
       "    }\n",
       "</style>\n",
       "<table border=\"1\" class=\"dataframe\">\n",
       "  <thead>\n",
       "    <tr style=\"text-align: right;\">\n",
       "      <th></th>\n",
       "      <th>Item Name</th>\n",
       "      <th>Item ID</th>\n",
       "      <th>Purchase Count</th>\n",
       "      <th>Item Price</th>\n",
       "      <th>Total Purchase Value</th>\n",
       "    </tr>\n",
       "  </thead>\n",
       "  <tbody>\n",
       "    <tr>\n",
       "      <th>0</th>\n",
       "      <td>Oathbreaker, Last Hope of the Breaking Storm</td>\n",
       "      <td>178</td>\n",
       "      <td>12</td>\n",
       "      <td>$4.23</td>\n",
       "      <td>$50.76</td>\n",
       "    </tr>\n",
       "    <tr>\n",
       "      <th>1</th>\n",
       "      <td>Extraction, Quickblade Of Trembling Hands</td>\n",
       "      <td>108</td>\n",
       "      <td>9</td>\n",
       "      <td>$3.53</td>\n",
       "      <td>$31.77</td>\n",
       "    </tr>\n",
       "    <tr>\n",
       "      <th>2</th>\n",
       "      <td>Nirvana</td>\n",
       "      <td>82</td>\n",
       "      <td>9</td>\n",
       "      <td>$4.90</td>\n",
       "      <td>$44.10</td>\n",
       "    </tr>\n",
       "    <tr>\n",
       "      <th>3</th>\n",
       "      <td>Fiery Glass Crusader</td>\n",
       "      <td>145</td>\n",
       "      <td>9</td>\n",
       "      <td>$4.58</td>\n",
       "      <td>$41.22</td>\n",
       "    </tr>\n",
       "    <tr>\n",
       "      <th>4</th>\n",
       "      <td>Pursuit, Cudgel of Necromancy</td>\n",
       "      <td>19</td>\n",
       "      <td>8</td>\n",
       "      <td>$1.02</td>\n",
       "      <td>$8.16</td>\n",
       "    </tr>\n",
       "  </tbody>\n",
       "</table>\n",
       "</div>"
      ],
      "text/plain": [
       "                                      Item Name  Item ID  Purchase Count  \\\n",
       "0  Oathbreaker, Last Hope of the Breaking Storm      178              12   \n",
       "1     Extraction, Quickblade Of Trembling Hands      108               9   \n",
       "2                                       Nirvana       82               9   \n",
       "3                          Fiery Glass Crusader      145               9   \n",
       "4                 Pursuit, Cudgel of Necromancy       19               8   \n",
       "\n",
       "  Item Price Total Purchase Value  \n",
       "0      $4.23               $50.76  \n",
       "1      $3.53               $31.77  \n",
       "2      $4.90               $44.10  \n",
       "3      $4.58               $41.22  \n",
       "4      $1.02                $8.16  "
      ]
     },
     "execution_count": 12,
     "metadata": {},
     "output_type": "execute_result"
    }
   ],
   "source": [
    "# Group by Item Name\n",
    "item_group=purchase_data.groupby(['Item Name','Item ID'])\n",
    "\n",
    "# Purchase Count\n",
    "item_purch_count=item_group['Purchase ID'].count()\n",
    "item_count_df=pd.DataFrame(item_purch_count)\n",
    "\n",
    "# Average Purchase Price\n",
    "item_avg_purch=item_group['Price'].mean()\n",
    "item_avg_df=pd.DataFrame(item_avg_purch)\n",
    "\n",
    "# Total Purchase Value\n",
    "item_purch_total=item_group['Price'].sum()\n",
    "item_total_df=pd.DataFrame(item_purch_total)\n",
    "\n",
    "# Create summary dataframe\n",
    "merge_1=pd.merge(item_count_df,item_avg_df,on=[\"Item Name\",'Item ID'])\n",
    "merge_2=pd.merge(merge_1,item_total_df,on=[\"Item Name\", \"Item ID\"],suffixes=(' Avg',' Total'))\n",
    "\n",
    "# Create summary dataframe\n",
    "# Rename dataframe\n",
    "item_summary=merge_2.rename(columns={\n",
    "    \"Purchase ID\":'Purchase Count',\n",
    "    \"Price Avg\":'Item Price',\n",
    "    \"Price Total\":'Total Purchase Value'\n",
    "})\n",
    "\n",
    "# Sort by purchase count descending\n",
    "item_summary=item_summary.sort_values(['Purchase Count'],ascending=False)\n",
    "\n",
    "# Re-format\n",
    "item_summary['Item Price']=item_summary['Item Price'].map(\"${:,.2f}\".format)\n",
    "item_summary['Total Purchase Value']=item_summary['Total Purchase Value'].map(\"${:,.2f}\".format)\n",
    "\n",
    "# Move indexes over to avoid display errors in github\n",
    "item_summary.reset_index(inplace=True)\n",
    "\n",
    "# item_summary.head()\n",
    "item_summary.head()\n"
   ]
  },
  {
   "cell_type": "markdown",
   "metadata": {},
   "source": [
    "## Most Profitable Items"
   ]
  },
  {
   "cell_type": "markdown",
   "metadata": {},
   "source": [
    "* Sort the above table by total purchase value in descending order\n",
    "\n",
    "\n",
    "* Optional: give the displayed data cleaner formatting\n",
    "\n",
    "\n",
    "* Display a preview of the data frame\n",
    "\n"
   ]
  },
  {
   "cell_type": "code",
   "execution_count": 18,
   "metadata": {
    "scrolled": true
   },
   "outputs": [
    {
     "data": {
      "text/html": [
       "<div>\n",
       "<style scoped>\n",
       "    .dataframe tbody tr th:only-of-type {\n",
       "        vertical-align: middle;\n",
       "    }\n",
       "\n",
       "    .dataframe tbody tr th {\n",
       "        vertical-align: top;\n",
       "    }\n",
       "\n",
       "    .dataframe thead th {\n",
       "        text-align: right;\n",
       "    }\n",
       "</style>\n",
       "<table border=\"1\" class=\"dataframe\">\n",
       "  <thead>\n",
       "    <tr style=\"text-align: right;\">\n",
       "      <th></th>\n",
       "      <th>Item Name</th>\n",
       "      <th>Item ID</th>\n",
       "      <th>Purchase Count</th>\n",
       "      <th>Item Price</th>\n",
       "      <th>Total Purchase Value</th>\n",
       "    </tr>\n",
       "  </thead>\n",
       "  <tbody>\n",
       "    <tr>\n",
       "      <th>0</th>\n",
       "      <td>Oathbreaker, Last Hope of the Breaking Storm</td>\n",
       "      <td>178</td>\n",
       "      <td>12</td>\n",
       "      <td>$4.23</td>\n",
       "      <td>$50.76</td>\n",
       "    </tr>\n",
       "    <tr>\n",
       "      <th>1</th>\n",
       "      <td>Nirvana</td>\n",
       "      <td>82</td>\n",
       "      <td>9</td>\n",
       "      <td>$4.90</td>\n",
       "      <td>$44.10</td>\n",
       "    </tr>\n",
       "    <tr>\n",
       "      <th>2</th>\n",
       "      <td>Fiery Glass Crusader</td>\n",
       "      <td>145</td>\n",
       "      <td>9</td>\n",
       "      <td>$4.58</td>\n",
       "      <td>$41.22</td>\n",
       "    </tr>\n",
       "    <tr>\n",
       "      <th>3</th>\n",
       "      <td>Final Critic</td>\n",
       "      <td>92</td>\n",
       "      <td>8</td>\n",
       "      <td>$4.88</td>\n",
       "      <td>$39.04</td>\n",
       "    </tr>\n",
       "    <tr>\n",
       "      <th>4</th>\n",
       "      <td>Singed Scalpel</td>\n",
       "      <td>103</td>\n",
       "      <td>8</td>\n",
       "      <td>$4.35</td>\n",
       "      <td>$34.80</td>\n",
       "    </tr>\n",
       "  </tbody>\n",
       "</table>\n",
       "</div>"
      ],
      "text/plain": [
       "                                      Item Name  Item ID  Purchase Count  \\\n",
       "0  Oathbreaker, Last Hope of the Breaking Storm      178              12   \n",
       "1                                       Nirvana       82               9   \n",
       "2                          Fiery Glass Crusader      145               9   \n",
       "3                                  Final Critic       92               8   \n",
       "4                                Singed Scalpel      103               8   \n",
       "\n",
       "  Item Price Total Purchase Value  \n",
       "0      $4.23               $50.76  \n",
       "1      $4.90               $44.10  \n",
       "2      $4.58               $41.22  \n",
       "3      $4.88               $39.04  \n",
       "4      $4.35               $34.80  "
      ]
     },
     "execution_count": 18,
     "metadata": {},
     "output_type": "execute_result"
    }
   ],
   "source": [
    "# Re-create data frame to undo formatting\n",
    "item_profit_summary=merge_2.rename(columns={\n",
    "    \"Purchase ID\":'Purchase Count',\n",
    "    \"Price Avg\":'Item Price',\n",
    "    \"Price Total\":'Total Purchase Value'\n",
    "})\n",
    "\n",
    "\n",
    "# Sort table by total purchase value descending\n",
    "item_profit_summary=item_profit_summary.sort_values(['Total Purchase Value'],ascending=False)\n",
    "\n",
    "# Reformat values\n",
    "item_profit_summary['Item Price']=item_profit_summary['Item Price'].map(\"${:,.2f}\".format)\n",
    "item_profit_summary['Total Purchase Value']=item_profit_summary['Total Purchase Value'].map(\"${:,.2f}\".format)\n",
    "\n",
    "# Reset index to avoiud dislay problems in github\n",
    "item_profit_summary.reset_index(inplace=True)\n",
    "\n",
    "# Display preview\n",
    "# item_profit_summary.head()\n",
    "item_profit_summary.iloc[0:5,:]"
   ]
  },
  {
   "cell_type": "code",
   "execution_count": null,
   "metadata": {},
   "outputs": [],
   "source": []
  }
 ],
 "metadata": {
  "anaconda-cloud": {},
  "kernel_info": {
   "name": "python3"
  },
  "kernelspec": {
   "display_name": "Python 3",
   "language": "python",
   "name": "python3"
  },
  "language_info": {
   "codemirror_mode": {
    "name": "ipython",
    "version": 3
   },
   "file_extension": ".py",
   "mimetype": "text/x-python",
   "name": "python",
   "nbconvert_exporter": "python",
   "pygments_lexer": "ipython3",
   "version": "3.7.1"
  },
  "nteract": {
   "version": "0.2.0"
  }
 },
 "nbformat": 4,
 "nbformat_minor": 2
}
